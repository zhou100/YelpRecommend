{
 "cells": [
  {
   "cell_type": "markdown",
   "metadata": {},
   "source": [
    "# Yelp Data Challenge - Clustering and PCA\n",
    "\n",
    "Yujun Zhou\n",
    "   \n",
    "\n",
    "Sep 2018"
   ]
  },
  {
   "cell_type": "markdown",
   "metadata": {},
   "source": [
    "\n",
    " \n",
    "* Load, visualize data\n",
    "* Extract Tf-Idf feature vectors from review data\n",
    "* Perform PCA on review feature vectors\n",
    "* Visualize variance explained\n",
    "* Perform PCA review classification\n"
   ]
  },
  {
   "cell_type": "code",
   "execution_count": 1,
   "metadata": {},
   "outputs": [],
   "source": [
    "import pandas as pd\n",
    "import numpy as np\n",
    "import matplotlib.pyplot as plt\n",
    "% matplotlib inline\n",
    "plt.style.use(\"ggplot\")"
   ]
  },
  {
   "cell_type": "code",
   "execution_count": 2,
   "metadata": {},
   "outputs": [],
   "source": [
    "df = pd.read_csv('clean_data/last_2_years_restaurant_reviews.csv')"
   ]
  },
  {
   "cell_type": "code",
   "execution_count": 3,
   "metadata": {},
   "outputs": [
    {
     "data": {
      "text/html": [
       "<div>\n",
       "<style scoped>\n",
       "    .dataframe tbody tr th:only-of-type {\n",
       "        vertical-align: middle;\n",
       "    }\n",
       "\n",
       "    .dataframe tbody tr th {\n",
       "        vertical-align: top;\n",
       "    }\n",
       "\n",
       "    .dataframe thead th {\n",
       "        text-align: right;\n",
       "    }\n",
       "</style>\n",
       "<table border=\"1\" class=\"dataframe\">\n",
       "  <thead>\n",
       "    <tr style=\"text-align: right;\">\n",
       "      <th></th>\n",
       "      <th>business_id</th>\n",
       "      <th>name</th>\n",
       "      <th>categories</th>\n",
       "      <th>avg_stars</th>\n",
       "      <th>cool</th>\n",
       "      <th>date</th>\n",
       "      <th>funny</th>\n",
       "      <th>review_id</th>\n",
       "      <th>stars</th>\n",
       "      <th>text</th>\n",
       "      <th>useful</th>\n",
       "      <th>user_id</th>\n",
       "    </tr>\n",
       "  </thead>\n",
       "  <tbody>\n",
       "    <tr>\n",
       "      <th>0</th>\n",
       "      <td>--9e1ONYQuAa-CB_Rrw7Tw</td>\n",
       "      <td>Delmonico Steakhouse</td>\n",
       "      <td>Steakhouses, Restaurants, Cajun/Creole</td>\n",
       "      <td>4.0</td>\n",
       "      <td>0</td>\n",
       "      <td>2017-02-14</td>\n",
       "      <td>0</td>\n",
       "      <td>VETXTwMw6qxzOVDlXfe6Tg</td>\n",
       "      <td>5</td>\n",
       "      <td>went for dinner tonight. Amazing my husband ha...</td>\n",
       "      <td>0</td>\n",
       "      <td>ymlnR8UeFvB4FZL56tCZsA</td>\n",
       "    </tr>\n",
       "    <tr>\n",
       "      <th>1</th>\n",
       "      <td>--9e1ONYQuAa-CB_Rrw7Tw</td>\n",
       "      <td>Delmonico Steakhouse</td>\n",
       "      <td>Steakhouses, Restaurants, Cajun/Creole</td>\n",
       "      <td>4.0</td>\n",
       "      <td>0</td>\n",
       "      <td>2017-12-04</td>\n",
       "      <td>0</td>\n",
       "      <td>S8-8uZ7fa5YbjnEtaW15ng</td>\n",
       "      <td>5</td>\n",
       "      <td>This was an amazing dinning experience! ORDER ...</td>\n",
       "      <td>0</td>\n",
       "      <td>9pSSL6X6lFpY3FCRLEH3og</td>\n",
       "    </tr>\n",
       "    <tr>\n",
       "      <th>2</th>\n",
       "      <td>--9e1ONYQuAa-CB_Rrw7Tw</td>\n",
       "      <td>Delmonico Steakhouse</td>\n",
       "      <td>Steakhouses, Restaurants, Cajun/Creole</td>\n",
       "      <td>4.0</td>\n",
       "      <td>0</td>\n",
       "      <td>2016-08-22</td>\n",
       "      <td>1</td>\n",
       "      <td>1nK5w0VNfDlnR3bOz13dJQ</td>\n",
       "      <td>5</td>\n",
       "      <td>My husband and I went there for lunch on a Sat...</td>\n",
       "      <td>1</td>\n",
       "      <td>gm8nNoA3uB4In5o_Hxpq3g</td>\n",
       "    </tr>\n",
       "    <tr>\n",
       "      <th>3</th>\n",
       "      <td>--9e1ONYQuAa-CB_Rrw7Tw</td>\n",
       "      <td>Delmonico Steakhouse</td>\n",
       "      <td>Steakhouses, Restaurants, Cajun/Creole</td>\n",
       "      <td>4.0</td>\n",
       "      <td>0</td>\n",
       "      <td>2016-09-13</td>\n",
       "      <td>0</td>\n",
       "      <td>N1Z93BthdJ7FT2p5S22jIA</td>\n",
       "      <td>3</td>\n",
       "      <td>Went for a nice anniversary dinner. Researched...</td>\n",
       "      <td>0</td>\n",
       "      <td>CEtidlXNyQzgJSdF1ubPFw</td>\n",
       "    </tr>\n",
       "    <tr>\n",
       "      <th>4</th>\n",
       "      <td>--9e1ONYQuAa-CB_Rrw7Tw</td>\n",
       "      <td>Delmonico Steakhouse</td>\n",
       "      <td>Steakhouses, Restaurants, Cajun/Creole</td>\n",
       "      <td>4.0</td>\n",
       "      <td>0</td>\n",
       "      <td>2015-02-02</td>\n",
       "      <td>0</td>\n",
       "      <td>_Uwp6FO1X-avE9wqTMC59w</td>\n",
       "      <td>5</td>\n",
       "      <td>This place is first class in every way. Lobste...</td>\n",
       "      <td>0</td>\n",
       "      <td>-Z7Nw2UF7NiBSAzfXNA_XA</td>\n",
       "    </tr>\n",
       "  </tbody>\n",
       "</table>\n",
       "</div>"
      ],
      "text/plain": [
       "              business_id                  name  \\\n",
       "0  --9e1ONYQuAa-CB_Rrw7Tw  Delmonico Steakhouse   \n",
       "1  --9e1ONYQuAa-CB_Rrw7Tw  Delmonico Steakhouse   \n",
       "2  --9e1ONYQuAa-CB_Rrw7Tw  Delmonico Steakhouse   \n",
       "3  --9e1ONYQuAa-CB_Rrw7Tw  Delmonico Steakhouse   \n",
       "4  --9e1ONYQuAa-CB_Rrw7Tw  Delmonico Steakhouse   \n",
       "\n",
       "                               categories  avg_stars  cool        date  funny  \\\n",
       "0  Steakhouses, Restaurants, Cajun/Creole        4.0     0  2017-02-14      0   \n",
       "1  Steakhouses, Restaurants, Cajun/Creole        4.0     0  2017-12-04      0   \n",
       "2  Steakhouses, Restaurants, Cajun/Creole        4.0     0  2016-08-22      1   \n",
       "3  Steakhouses, Restaurants, Cajun/Creole        4.0     0  2016-09-13      0   \n",
       "4  Steakhouses, Restaurants, Cajun/Creole        4.0     0  2015-02-02      0   \n",
       "\n",
       "                review_id  stars  \\\n",
       "0  VETXTwMw6qxzOVDlXfe6Tg      5   \n",
       "1  S8-8uZ7fa5YbjnEtaW15ng      5   \n",
       "2  1nK5w0VNfDlnR3bOz13dJQ      5   \n",
       "3  N1Z93BthdJ7FT2p5S22jIA      3   \n",
       "4  _Uwp6FO1X-avE9wqTMC59w      5   \n",
       "\n",
       "                                                text  useful  \\\n",
       "0  went for dinner tonight. Amazing my husband ha...       0   \n",
       "1  This was an amazing dinning experience! ORDER ...       0   \n",
       "2  My husband and I went there for lunch on a Sat...       1   \n",
       "3  Went for a nice anniversary dinner. Researched...       0   \n",
       "4  This place is first class in every way. Lobste...       0   \n",
       "\n",
       "                  user_id  \n",
       "0  ymlnR8UeFvB4FZL56tCZsA  \n",
       "1  9pSSL6X6lFpY3FCRLEH3og  \n",
       "2  gm8nNoA3uB4In5o_Hxpq3g  \n",
       "3  CEtidlXNyQzgJSdF1ubPFw  \n",
       "4  -Z7Nw2UF7NiBSAzfXNA_XA  "
      ]
     },
     "execution_count": 3,
     "metadata": {},
     "output_type": "execute_result"
    }
   ],
   "source": [
    "df.head()"
   ]
  },
  {
   "cell_type": "markdown",
   "metadata": {},
   "source": [
    "## 1. Cluster the review text data for all the restaurants"
   ]
  },
  {
   "cell_type": "markdown",
   "metadata": {},
   "source": [
    "### Define your feature variables, here is the text of the review"
   ]
  },
  {
   "cell_type": "code",
   "execution_count": 5,
   "metadata": {},
   "outputs": [],
   "source": [
    "# Take the values of the column that contains review text data, save to a variable named \"documents\"\n",
    "documents = df['text'].values"
   ]
  },
  {
   "cell_type": "code",
   "execution_count": 6,
   "metadata": {},
   "outputs": [
    {
     "data": {
      "text/plain": [
       "(640718,)"
      ]
     },
     "execution_count": 6,
     "metadata": {},
     "output_type": "execute_result"
    }
   ],
   "source": [
    "documents.shape"
   ]
  },
  {
   "cell_type": "code",
   "execution_count": 10,
   "metadata": {},
   "outputs": [
    {
     "data": {
      "text/plain": [
       "array([\"went for dinner tonight. Amazing my husband had lobster bisque and the T bone both were delish.I had the French onion soup and the pan seared duck. Cooked to perfection and I'm still raving about the flavor. If you are ever in Vegas this is a must try.\",\n",
       "       'This was an amazing dinning experience! ORDER THE PORK CHOP! I will definitely return.',\n",
       "       \"My husband and I went there for lunch on a Saturday. We had a physically exhausting week so we decided to treat ourselves. But it hasn't always been easy for our allergy whenever we ate out. So we called Delmonico ahead to see if they can accommodate our special needs. The lady who answered our call was very courteous and we felt comfortable to try after having some answers from her.\\r\\nAs we arrived, the restaurant has a comfortable ambience. I wouldn't say it is grand or special but just comfortable. When it was time to order, the server was courteous regarding our allergy too and I believe the one who took care of us was a manager. He even checked with the chef to make sure the complimentary popover was okay for us to consume. We told them we are allergic to soy, corn, peanut, tomato and pork products, and some other stuff, and he had been very mindful and advised accordingly as we ordered, he did it so graciously that we didn't feel being put in a spot. Some other semi high end restaurants had given us a startled face or even an uncomfortable face when we mentioned our allergy, but this manager was super professional that he didn't make us feel crappy about our differences from others. So he made a potential stressful situation easy for us, very impressive.\\r\\nTheir steak was aged in house by the restaurant and we think their aging was done fabulously as there was no rotten smell or taste in it. The manager even double checked with us and informed us that the beef was sourced from corn fed cows and asked if we would be able to tolerate that. And we made our decision to say yes and went ahead with the steak. Their steaks were very delicious. We actually asked for medium well with no seasoning and the steak still came out super delicious and juicy. So the good quality is in the steak itself and didn't need to depend on seasoning or being served bloodily. Again, very impressive.\\r\\nAnyway, it was a delicious meal and we were well taken care of so we didn't get sick from any event of undisclosed allergens. We are very happy with this meal. We would go back when we have another time wanting to treat ourselves again. Hopefully the manager will be there again the next time we visit.\"],\n",
       "      dtype=object)"
      ]
     },
     "execution_count": 10,
     "metadata": {},
     "output_type": "execute_result"
    }
   ],
   "source": [
    "documents[:3]"
   ]
  },
  {
   "cell_type": "markdown",
   "metadata": {},
   "source": [
    "### Define your target variable (any categorical variable that may be meaningful)"
   ]
  },
  {
   "cell_type": "markdown",
   "metadata": {},
   "source": [
    "#### For example, I am interested in perfect (5 stars) and imperfect (1-4 stars) rating"
   ]
  },
  {
   "cell_type": "code",
   "execution_count": 11,
   "metadata": {},
   "outputs": [],
   "source": [
    "# Make a column and take the values, save to a variable named \"target\"\n",
    "df['favorable'] = df['stars']>4"
   ]
  },
  {
   "cell_type": "code",
   "execution_count": 17,
   "metadata": {},
   "outputs": [],
   "source": [
    "target = df['favorable'].values"
   ]
  },
  {
   "cell_type": "code",
   "execution_count": 18,
   "metadata": {},
   "outputs": [
    {
     "data": {
      "text/plain": [
       "array([ True,  True,  True, False,  True])"
      ]
     },
     "execution_count": 18,
     "metadata": {},
     "output_type": "execute_result"
    }
   ],
   "source": [
    "target[:5]"
   ]
  },
  {
   "cell_type": "markdown",
   "metadata": {},
   "source": [
    "#### You may want to look at the statistic of the target variable"
   ]
  },
  {
   "cell_type": "code",
   "execution_count": 19,
   "metadata": {},
   "outputs": [
    {
     "data": {
      "text/plain": [
       "0.4741461922405801"
      ]
     },
     "execution_count": 19,
     "metadata": {},
     "output_type": "execute_result"
    }
   ],
   "source": [
    "# To be implemented\n",
    "target.mean()"
   ]
  },
  {
   "cell_type": "code",
   "execution_count": 20,
   "metadata": {},
   "outputs": [
    {
     "data": {
      "text/plain": [
       "(640718,)"
      ]
     },
     "execution_count": 20,
     "metadata": {},
     "output_type": "execute_result"
    }
   ],
   "source": [
    "target.shape"
   ]
  },
  {
   "cell_type": "markdown",
   "metadata": {},
   "source": [
    "### Create training dataset and test dataset"
   ]
  },
  {
   "cell_type": "code",
   "execution_count": 22,
   "metadata": {},
   "outputs": [],
   "source": [
    "from sklearn.model_selection import train_test_split"
   ]
  },
  {
   "cell_type": "code",
   "execution_count": 23,
   "metadata": {},
   "outputs": [],
   "source": [
    "# documents is your X, target is your y\n",
    "# Now split the data to training set and test set\n",
    "# You may want to start with a big \"test_size\", since large training set can easily crash your laptop.\n",
    "documents_train, documents_test, target_train, target_test = train_test_split(\n",
    "    documents, target, test_size = 0.95, random_state=0\n",
    ")"
   ]
  },
  {
   "cell_type": "markdown",
   "metadata": {},
   "source": [
    "### Get NLP representation of the documents\n",
    "\n",
    "#### Fit TfidfVectorizer with training data only, then tranform all the data to tf-idf"
   ]
  },
  {
   "cell_type": "code",
   "execution_count": 24,
   "metadata": {},
   "outputs": [],
   "source": [
    "from sklearn.feature_extraction.text import TfidfVectorizer"
   ]
  },
  {
   "cell_type": "code",
   "execution_count": 25,
   "metadata": {},
   "outputs": [],
   "source": [
    "# Create TfidfVectorizer, and name it vectorizer, choose a reasonable max_features, e.g. 1000\n",
    "vectorizer = TfidfVectorizer(stop_words='english',max_features=1000)"
   ]
  },
  {
   "cell_type": "code",
   "execution_count": 26,
   "metadata": {},
   "outputs": [],
   "source": [
    "# Train the model with your training data\n",
    "vectors_train = vectorizer.fit_transform(documents_train).toarray()"
   ]
  },
  {
   "cell_type": "code",
   "execution_count": 27,
   "metadata": {},
   "outputs": [],
   "source": [
    "# Get the vocab of your tfidf\n",
    "words = vectorizer.get_feature_names()"
   ]
  },
  {
   "cell_type": "code",
   "execution_count": 29,
   "metadata": {},
   "outputs": [],
   "source": [
    "# Use the trained model to transform all the reviews\n",
    "vectors_documents = vectorizer.transform(documents).toarray()"
   ]
  },
  {
   "cell_type": "markdown",
   "metadata": {},
   "source": [
    "### Cluster reviews with KMeans"
   ]
  },
  {
   "cell_type": "markdown",
   "metadata": {},
   "source": [
    "#### Fit k-means clustering with the training vectors and apply it on all the data"
   ]
  },
  {
   "cell_type": "code",
   "execution_count": 31,
   "metadata": {},
   "outputs": [],
   "source": [
    "from sklearn.cluster import KMeans\n",
    "kmeans= KMeans()\n",
    "kmeans.fit(vectors_train)\n"
   ]
  },
  {
   "cell_type": "markdown",
   "metadata": {},
   "source": [
    "#### Make predictions on all your data"
   ]
  },
  {
   "cell_type": "code",
   "execution_count": 47,
   "metadata": {},
   "outputs": [],
   "source": [
    "# To be implemented\n",
    "assigned_cluster = kmeans.predict(vectors_documents)"
   ]
  },
  {
   "cell_type": "markdown",
   "metadata": {},
   "source": [
    "#### Inspect the centroids\n",
    "To find out what \"topics\" Kmeans has discovered we must inspect the centroids. Print out the centroids of the Kmeans clustering.\n",
    "\n",
    "   These centroids are simply a bunch of vectors.  To make any sense of them we need to map these vectors back into our 'word space'.  Think of each feature/dimension of the centroid vector as representing the \"average\" review or the average occurances of words for that cluster."
   ]
  },
  {
   "cell_type": "code",
   "execution_count": 48,
   "metadata": {},
   "outputs": [
    {
     "data": {
      "text/plain": [
       "(8, 1000)"
      ]
     },
     "execution_count": 48,
     "metadata": {},
     "output_type": "execute_result"
    }
   ],
   "source": [
    " kmeans.cluster_centers_.shape"
   ]
  },
  {
   "cell_type": "markdown",
   "metadata": {},
   "source": [
    "#### Find the top 10 features for each cluster.\n",
    "For topics we are only really interested in the most present words, i.e. features/dimensions with the greatest representation in the centroid.  Print out the top ten words for each centroid.\n",
    "\n",
    "* Sort each centroid vector to find the top 10 features\n",
    "* Go back to your vectorizer object to find out what words each of these features corresponds to.\n"
   ]
  },
  {
   "cell_type": "code",
   "execution_count": 49,
   "metadata": {},
   "outputs": [],
   "source": [
    "n_feat = 10\n",
    "top_centroids = kmeans.cluster_centers_.argsort()[:,-1:-n_feat:-1]"
   ]
  },
  {
   "cell_type": "code",
   "execution_count": 52,
   "metadata": {},
   "outputs": [
    {
     "name": "stdout",
     "output_type": "stream",
     "text": [
      "0 good, food, place, vegas, service, best, like, delicious, love\n",
      "1 food, order, minutes, time, service, just, came, didn, table\n",
      "2 chicken, fried, good, rice, food, ordered, place, great, sauce\n",
      "3 sushi, rolls, place, ayce, roll, good, great, fresh, fish\n",
      "4 burger, fries, burgers, good, shake, cheese, place, food, great\n",
      "5 great, food, service, place, amazing, good, friendly, atmosphere, staff\n",
      "6 pizza, crust, good, place, great, slice, cheese, best, order\n",
      "7 breakfast, eggs, good, food, place, great, coffee, pancakes, service\n"
     ]
    }
   ],
   "source": [
    "for num, centroid in enumerate(top_centroids):\n",
    "    print (num, \", \".join(words[i] for i in centroid))"
   ]
  },
  {
   "cell_type": "markdown",
   "metadata": {},
   "source": [
    "#### Try different k\n",
    "If you set k == to a different number, how does the top features change?"
   ]
  },
  {
   "cell_type": "code",
   "execution_count": 53,
   "metadata": {},
   "outputs": [
    {
     "data": {
      "text/plain": [
       "KMeans(algorithm='auto', copy_x=True, init='k-means++', max_iter=300,\n",
       "    n_clusters=6, n_init=10, n_jobs=1, precompute_distances='auto',\n",
       "    random_state=None, tol=0.0001, verbose=0)"
      ]
     },
     "execution_count": 53,
     "metadata": {},
     "output_type": "execute_result"
    }
   ],
   "source": [
    "kmeans= KMeans(n_clusters=6)\n",
    "kmeans.fit(vectors_train)\n"
   ]
  },
  {
   "cell_type": "code",
   "execution_count": 54,
   "metadata": {},
   "outputs": [
    {
     "data": {
      "text/plain": [
       "(6, 1000)"
      ]
     },
     "execution_count": 54,
     "metadata": {},
     "output_type": "execute_result"
    }
   ],
   "source": [
    " kmeans.cluster_centers_.shape"
   ]
  },
  {
   "cell_type": "code",
   "execution_count": 56,
   "metadata": {},
   "outputs": [],
   "source": [
    "assigned_cluster = kmeans.predict(vectors_documents)"
   ]
  },
  {
   "cell_type": "code",
   "execution_count": 57,
   "metadata": {},
   "outputs": [
    {
     "name": "stdout",
     "output_type": "stream",
     "text": [
      "0 good, chicken, food, like, really, place, ordered, just, burger\n",
      "1 pizza, crust, good, place, great, slice, cheese, order, time\n",
      "2 great, food, service, place, good, amazing, atmosphere, friendly, staff\n",
      "3 food, order, service, time, just, minutes, like, didn, place\n",
      "4 sushi, rolls, place, ayce, roll, good, great, fresh, fish\n",
      "5 place, food, best, amazing, vegas, love, service, delicious, friendly\n"
     ]
    }
   ],
   "source": [
    "n_feat = 10\n",
    "top_centroids = kmeans.cluster_centers_.argsort()[:,-1:-n_feat:-1]\n",
    "for num, centroid in enumerate(top_centroids):\n",
    "    print (num, \", \".join(words[i] for i in centroid))"
   ]
  },
  {
   "cell_type": "markdown",
   "metadata": {},
   "source": [
    "#### Print out the rating and review of a random sample of the reviews assigned to each cluster to get a sense of the cluster."
   ]
  },
  {
   "cell_type": "code",
   "execution_count": 58,
   "metadata": {},
   "outputs": [
    {
     "data": {
      "text/plain": [
       "array([0, 1, 2, 3, 4, 5])"
      ]
     },
     "execution_count": 58,
     "metadata": {},
     "output_type": "execute_result"
    }
   ],
   "source": [
    "np.unique(assigned_cluster)"
   ]
  },
  {
   "cell_type": "code",
   "execution_count": 63,
   "metadata": {},
   "outputs": [
    {
     "name": "stdout",
     "output_type": "stream",
     "text": [
      "==============================\n",
      "Cluster 0:\n",
      "5\n",
      "I was feeling hungry and it was pretty late, but Chin Chin was still open. The hostess was super sweet and seated us right away. Our waiter was great. He was genuine and very attentive. I got the bok choy and black mushrooms. It was seasoned well, however the mushrooms were a little tough. The SO got the Chinese chicken salad which was delicious. The dressing has a lot of ginger in it, so if you're not a ginger person you may want to choose something else. They have so much other yummy options I want to try.\n",
      "2\n",
      "Food was pretty good, typical bar food. We had to ask for a menu, nobody welcomed us, we weren't checked on for the entire dinner, we had to seek a waitress out to even get the dinner. The whole process was rushed and unprofessional\n",
      "==============================\n",
      "Cluster 1:\n",
      "5\n",
      "The Tuscan salad is amazing . I get it every time I come here . It was a recommendation from our server . The pizza is always good . The sauce on the pizza is delicious .\n",
      "5\n",
      "I've ordered the double cheesesteak add jalape帽os and onions a bunch of times.  I've picked it up and gotten as delivery.  I used to live up the street but now I use door dash for delivery.  Every-time it's meaty cheesy perfection in a tender fresh roll.  Delicious!!   I've also had the hot wings.  Good crispy hot wings.  The pizza is good as well.  Toppings stacked high.  Crust could be a bit thinner/crispier but, with all that cheese it's still very delicious.  For the price, quality, and flavor on sandwiches, pizza, or wings, you cannot beat it.  If you're picking up, stop by Dino's next door and get some drinks.\n",
      "==============================\n",
      "Cluster 2:\n",
      "5\n",
      "I'm giving this place 5 stars because of the great customer service I received from Rosie! Rosie thank you for being so sweet and going over and beyond. You made our experience much more than just a quick stop to getting some coffee.\n",
      "4\n",
      "Well this place doesn't suck!  Yum-oh! Chicago style deep dish!!! Most excellent - and the bartenders....great service!!!\n",
      "==============================\n",
      "Cluster 3:\n",
      "4\n",
      "Since we were planning to be in Vegas for the Rascal Flatts concert at Hard Rock, and having the idea of trying somewhere new for dinner, I made a reservation at this place for my BF and I after reading the good reviews. \r\n",
      "\r\n",
      "Firstly, they arranged to have their limo come pick us up from the hotel right at 4:45p for a 5:00p reservation - nice. The driver was right on time! The drive over to the restaurant was a little longer than anticipated (I had mapped it out at only 3 miles from the hotel) but apparently there was major construction underway on Trop so he had to go an alternative route to avoid that. He gave us a heads up before we arrived that they were in the process of remodeling the restaurant - oh ok. \r\n",
      "\r\n",
      "As we walked in, there were a few tables already occupied but, upon being seated for a few minutes, we realized it was DEAD quiet. Strangely no music (I had envisioned old Blue Eyes crooning in the background as we were sipping our wine and looking at the historic Vegas photos on the walls). Our server informed us that because of the construction, their music system was disconnected. That definitely reduced the \"ambiance\" factor, but about 15 or 20 minutes in, their live music duo started to play oldies. I enjoyed it, but my BF thought it was cheesy LOL.\r\n",
      "\r\n",
      "Anyway, on to the menu - many choices from chicken to meat to pasta! We ended up ordering bruschetta and a simple salad to start, the mussels appetizer, and 1 lb. of spaghetti (yes a whole pound - we've never seen that anywhere!) with pomodoro. The bruschetta was awesome, the spaghetti was pretty decent, and the mussels dish was nice as well (mostly because of the yummy sauce) although they were the big green lip - I prefer the smaller ones.\r\n",
      "\r\n",
      "We were pretty full so decided to pass on dessert (didn't want to be falling asleep at the concert). By the time we finished, we were right on time to get with our driver again for the drive back to Hard Rock. Smooth sailing, tipped driver and bid him farewell.\r\n",
      "\r\n",
      "Overall, it was an enjoyable meal but we definitely came at an awkward time because of the remodeling. I think I'd like to return to this off-the-beaten-path restaurant after the expansion is complete to get a more accurate experience. I actually may return next month when my Mom and I will be there for a 2-night getaway. Saluti!\n",
      "1\n",
      "Waited over 20 minutes, tried giving us the wrong order. Cook threw the wrong order in the trash. Turned around and started cooking again, no apology. We waited another 15 min while behind us are now getting their food. I politely asked the man behind the register an update on our food. I even started with \"I know you guys are under staffed and very busy...\". He gave me a refund which then I explained to him that I didn't want a refund, I just wanted to know what was going on with my food. He gave us a refund, we took, he offered to make us our food still, free of charge. Our time was up, we had to go. An apology would have been nice.\n",
      "==============================\n",
      "Cluster 4:\n",
      "5\n",
      "Super impressed!!!! IV been to Kona grills before .... but this one has left such a fantastic impression on me.... we've been to this location twice now, once about a month a ago and then again last night, our server was John and he was so friendly and totally on point! Very accommodating and anticipated our every need! The next is their sushi chefs!... they work their butts off... one guys appropriately from Japan...FRESH SUSHI HERE people!... of all the restaurants in Vegas, this is one of my favorites!!! Great job guys, keep it up!!! Thank you for such a consistently wonderful experience!!!\n",
      "5\n",
      "One of my new favorite places! Terrific, personable, and helpful staff make you feel welcome. I hope they are paid well, but even so, pay tips to these people. The menu is very well designed with plenty of customization or you can choose from combinations they have already thought out. These are the best poke/sushi burritos I have had, not just in Las Vegas either. This place has a great reputation and you can see why if you choose to come here. The food is delicious, fresh and good for you. I must come here all the time now!\n",
      "==============================\n",
      "Cluster 5:\n",
      "5\n",
      "I absolutely love Rachel's Kitchen.  The food is always consistent and one of my go to places to eat once an week.  Great healthy choices such as sandwiches & salads, but they have yummy burgers and pasta too.  My personal favorite is the chicken salad sandwich or the turkey avocado sandwich.  Definitely come and check them out.\n",
      "5\n",
      "Upon entering we were greeted by friendly service and seated right away.  Our server was very attentive and the atmosphere was Amazing!\n"
     ]
    },
    {
     "name": "stderr",
     "output_type": "stream",
     "text": [
      "C:\\Users\\Administrator\\Anaconda3\\lib\\site-packages\\ipykernel_launcher.py:7: DeprecationWarning: \n",
      ".ix is deprecated. Please use\n",
      ".loc for label based indexing or\n",
      ".iloc for positional indexing\n",
      "\n",
      "See the documentation here:\n",
      "http://pandas.pydata.org/pandas-docs/stable/indexing.html#ix-indexer-is-deprecated\n",
      "  import sys\n",
      "C:\\Users\\Administrator\\Anaconda3\\lib\\site-packages\\ipykernel_launcher.py:8: DeprecationWarning: \n",
      ".ix is deprecated. Please use\n",
      ".loc for label based indexing or\n",
      ".iloc for positional indexing\n",
      "\n",
      "See the documentation here:\n",
      "http://pandas.pydata.org/pandas-docs/stable/indexing.html#ix-indexer-is-deprecated\n",
      "  \n"
     ]
    }
   ],
   "source": [
    "for i in range(kmeans.n_clusters):\n",
    "    cluster = np.arange(0,vectors_documents.shape[0])[assigned_cluster==i]\n",
    "    sample_reviews = np.random.choice(cluster,2,replace=False)\n",
    "    print (\"=\" * 30)\n",
    "    print (\"Cluster %d:\" % i )\n",
    "    for review_index in sample_reviews:\n",
    "        print (df.ix[review_index]['stars'],)\n",
    "        print(df.ix[review_index]['text'])\n",
    "    print    "
   ]
  },
  {
   "cell_type": "markdown",
   "metadata": {},
   "source": [
    "## 2. Cluster all the reviews of the most reviewed restaurant\n",
    "Let's find the most reviewed restaurant and analyze its reviews"
   ]
  },
  {
   "cell_type": "code",
   "execution_count": 65,
   "metadata": {},
   "outputs": [],
   "source": [
    "# Find the business who got most reviews, get your filtered df, name it df_top_restaurant\n",
    "most_reviewed_restaurant = df['business_id'].value_counts().index[0]\n",
    "df_top_restaurant = df[df['business_id']== most_reviewed_restaurant].copy().reset_index()"
   ]
  },
  {
   "cell_type": "code",
   "execution_count": 67,
   "metadata": {},
   "outputs": [
    {
     "data": {
      "text/html": [
       "<div>\n",
       "<style scoped>\n",
       "    .dataframe tbody tr th:only-of-type {\n",
       "        vertical-align: middle;\n",
       "    }\n",
       "\n",
       "    .dataframe tbody tr th {\n",
       "        vertical-align: top;\n",
       "    }\n",
       "\n",
       "    .dataframe thead th {\n",
       "        text-align: right;\n",
       "    }\n",
       "</style>\n",
       "<table border=\"1\" class=\"dataframe\">\n",
       "  <thead>\n",
       "    <tr style=\"text-align: right;\">\n",
       "      <th></th>\n",
       "      <th>index</th>\n",
       "      <th>business_id</th>\n",
       "      <th>name</th>\n",
       "      <th>categories</th>\n",
       "      <th>avg_stars</th>\n",
       "      <th>cool</th>\n",
       "      <th>date</th>\n",
       "      <th>funny</th>\n",
       "      <th>review_id</th>\n",
       "      <th>stars</th>\n",
       "      <th>text</th>\n",
       "      <th>useful</th>\n",
       "      <th>user_id</th>\n",
       "      <th>favorable</th>\n",
       "    </tr>\n",
       "  </thead>\n",
       "  <tbody>\n",
       "    <tr>\n",
       "      <th>0</th>\n",
       "      <td>283639</td>\n",
       "      <td>RESDUcs7fIiihp38-d6_6g</td>\n",
       "      <td>Bacchanal Buffet</td>\n",
       "      <td>Sandwiches, Buffets, Breakfast &amp; Brunch, Food,...</td>\n",
       "      <td>4.0</td>\n",
       "      <td>0</td>\n",
       "      <td>2015-09-16</td>\n",
       "      <td>0</td>\n",
       "      <td>gkcPdbblTvZDMSwx8nVEKw</td>\n",
       "      <td>5</td>\n",
       "      <td>Got here early on football Sunday 7:30am as I ...</td>\n",
       "      <td>0</td>\n",
       "      <td>SKteB5rgDlkkUa1Zxe1N0Q</td>\n",
       "      <td>True</td>\n",
       "    </tr>\n",
       "    <tr>\n",
       "      <th>1</th>\n",
       "      <td>283640</td>\n",
       "      <td>RESDUcs7fIiihp38-d6_6g</td>\n",
       "      <td>Bacchanal Buffet</td>\n",
       "      <td>Sandwiches, Buffets, Breakfast &amp; Brunch, Food,...</td>\n",
       "      <td>4.0</td>\n",
       "      <td>0</td>\n",
       "      <td>2017-09-09</td>\n",
       "      <td>0</td>\n",
       "      <td>mQfl6ci46mu0xaZrkRUhlA</td>\n",
       "      <td>5</td>\n",
       "      <td>This buffet is amazing.  Yes, it is expensive,...</td>\n",
       "      <td>0</td>\n",
       "      <td>f638AHA_GoHbyDB7VFMz7A</td>\n",
       "      <td>True</td>\n",
       "    </tr>\n",
       "    <tr>\n",
       "      <th>2</th>\n",
       "      <td>283641</td>\n",
       "      <td>RESDUcs7fIiihp38-d6_6g</td>\n",
       "      <td>Bacchanal Buffet</td>\n",
       "      <td>Sandwiches, Buffets, Breakfast &amp; Brunch, Food,...</td>\n",
       "      <td>4.0</td>\n",
       "      <td>0</td>\n",
       "      <td>2017-02-08</td>\n",
       "      <td>0</td>\n",
       "      <td>lMarDJDg4-e_0YoJOKJoWA</td>\n",
       "      <td>2</td>\n",
       "      <td>This place....lol our server was nice.  But fo...</td>\n",
       "      <td>0</td>\n",
       "      <td>A21zMqdN76ueLZFpmbue0Q</td>\n",
       "      <td>False</td>\n",
       "    </tr>\n",
       "    <tr>\n",
       "      <th>3</th>\n",
       "      <td>283642</td>\n",
       "      <td>RESDUcs7fIiihp38-d6_6g</td>\n",
       "      <td>Bacchanal Buffet</td>\n",
       "      <td>Sandwiches, Buffets, Breakfast &amp; Brunch, Food,...</td>\n",
       "      <td>4.0</td>\n",
       "      <td>0</td>\n",
       "      <td>2017-12-22</td>\n",
       "      <td>0</td>\n",
       "      <td>30xmXTzJwHPcqt0uvSLQhQ</td>\n",
       "      <td>3</td>\n",
       "      <td>One star knocked off for the cold air conditio...</td>\n",
       "      <td>0</td>\n",
       "      <td>uNHEnP28MMmVy96ZSJKaMA</td>\n",
       "      <td>False</td>\n",
       "    </tr>\n",
       "    <tr>\n",
       "      <th>4</th>\n",
       "      <td>283643</td>\n",
       "      <td>RESDUcs7fIiihp38-d6_6g</td>\n",
       "      <td>Bacchanal Buffet</td>\n",
       "      <td>Sandwiches, Buffets, Breakfast &amp; Brunch, Food,...</td>\n",
       "      <td>4.0</td>\n",
       "      <td>0</td>\n",
       "      <td>2015-02-21</td>\n",
       "      <td>0</td>\n",
       "      <td>g8ojbzP1xoX9dbDfQv2KJw</td>\n",
       "      <td>5</td>\n",
       "      <td>Miche better experience this time around. We w...</td>\n",
       "      <td>0</td>\n",
       "      <td>3cZPpN-IrA8CSc5PkZLbXA</td>\n",
       "      <td>True</td>\n",
       "    </tr>\n",
       "  </tbody>\n",
       "</table>\n",
       "</div>"
      ],
      "text/plain": [
       "    index             business_id              name  \\\n",
       "0  283639  RESDUcs7fIiihp38-d6_6g  Bacchanal Buffet   \n",
       "1  283640  RESDUcs7fIiihp38-d6_6g  Bacchanal Buffet   \n",
       "2  283641  RESDUcs7fIiihp38-d6_6g  Bacchanal Buffet   \n",
       "3  283642  RESDUcs7fIiihp38-d6_6g  Bacchanal Buffet   \n",
       "4  283643  RESDUcs7fIiihp38-d6_6g  Bacchanal Buffet   \n",
       "\n",
       "                                          categories  avg_stars  cool  \\\n",
       "0  Sandwiches, Buffets, Breakfast & Brunch, Food,...        4.0     0   \n",
       "1  Sandwiches, Buffets, Breakfast & Brunch, Food,...        4.0     0   \n",
       "2  Sandwiches, Buffets, Breakfast & Brunch, Food,...        4.0     0   \n",
       "3  Sandwiches, Buffets, Breakfast & Brunch, Food,...        4.0     0   \n",
       "4  Sandwiches, Buffets, Breakfast & Brunch, Food,...        4.0     0   \n",
       "\n",
       "         date  funny               review_id  stars  \\\n",
       "0  2015-09-16      0  gkcPdbblTvZDMSwx8nVEKw      5   \n",
       "1  2017-09-09      0  mQfl6ci46mu0xaZrkRUhlA      5   \n",
       "2  2017-02-08      0  lMarDJDg4-e_0YoJOKJoWA      2   \n",
       "3  2017-12-22      0  30xmXTzJwHPcqt0uvSLQhQ      3   \n",
       "4  2015-02-21      0  g8ojbzP1xoX9dbDfQv2KJw      5   \n",
       "\n",
       "                                                text  useful  \\\n",
       "0  Got here early on football Sunday 7:30am as I ...       0   \n",
       "1  This buffet is amazing.  Yes, it is expensive,...       0   \n",
       "2  This place....lol our server was nice.  But fo...       0   \n",
       "3  One star knocked off for the cold air conditio...       0   \n",
       "4  Miche better experience this time around. We w...       0   \n",
       "\n",
       "                  user_id  favorable  \n",
       "0  SKteB5rgDlkkUa1Zxe1N0Q       True  \n",
       "1  f638AHA_GoHbyDB7VFMz7A       True  \n",
       "2  A21zMqdN76ueLZFpmbue0Q      False  \n",
       "3  uNHEnP28MMmVy96ZSJKaMA      False  \n",
       "4  3cZPpN-IrA8CSc5PkZLbXA       True  "
      ]
     },
     "execution_count": 67,
     "metadata": {},
     "output_type": "execute_result"
    }
   ],
   "source": [
    "df_top_restaurant.head()"
   ]
  },
  {
   "cell_type": "markdown",
   "metadata": {},
   "source": [
    "We can also load restaurant profile information from the business dataset (optional)"
   ]
  },
  {
   "cell_type": "code",
   "execution_count": null,
   "metadata": {
    "collapsed": true
   },
   "outputs": [],
   "source": [
    "# Load business dataset (optional)\n",
    "# Take a look at the most reviewed restaurant's profile (optional)\n",
    "pass"
   ]
  },
  {
   "cell_type": "markdown",
   "metadata": {},
   "source": [
    "### Vectorize the text feature"
   ]
  },
  {
   "cell_type": "code",
   "execution_count": 70,
   "metadata": {},
   "outputs": [
    {
     "data": {
      "text/plain": [
       "(4923,)"
      ]
     },
     "execution_count": 70,
     "metadata": {},
     "output_type": "execute_result"
    }
   ],
   "source": [
    "# Take the values of the column that contains review text data, save to a variable named \"documents_top_restaurant\"\n",
    "documents_top_restaurant =  df_top_restaurant['text'].values\n",
    "documents_top_restaurant.shape"
   ]
  },
  {
   "cell_type": "markdown",
   "metadata": {},
   "source": [
    "### Define your target variable (for later classification use)"
   ]
  },
  {
   "cell_type": "markdown",
   "metadata": {},
   "source": [
    "#### Again, we look at perfect (5 stars) and imperfect (1-4 stars) rating"
   ]
  },
  {
   "cell_type": "code",
   "execution_count": 72,
   "metadata": {},
   "outputs": [
    {
     "data": {
      "text/plain": [
       "array([1, 1, 0, ..., 1, 0, 0])"
      ]
     },
     "execution_count": 72,
     "metadata": {},
     "output_type": "execute_result"
    }
   ],
   "source": [
    "# Make a column and take the values, save to a variable named \"target\"\n",
    "df_top_restaurant['favorable'] = df_top_restaurant['stars']>4\n",
    "target_top_restaurant = df_top_restaurant['favorable'].values.astype(int)\n",
    "target_top_restaurant"
   ]
  },
  {
   "cell_type": "markdown",
   "metadata": {},
   "source": [
    "#### Check the statistic of the target variable"
   ]
  },
  {
   "cell_type": "code",
   "execution_count": 76,
   "metadata": {},
   "outputs": [
    {
     "data": {
      "text/plain": [
       "(4923,)"
      ]
     },
     "execution_count": 76,
     "metadata": {},
     "output_type": "execute_result"
    }
   ],
   "source": [
    "target_top_restaurant.mean()\n",
    "target_top_restaurant.shape"
   ]
  },
  {
   "cell_type": "markdown",
   "metadata": {},
   "source": [
    "### Create training dataset and test dataset"
   ]
  },
  {
   "cell_type": "code",
   "execution_count": 74,
   "metadata": {},
   "outputs": [],
   "source": [
    "from sklearn.cross_validation import train_test_split"
   ]
  },
  {
   "cell_type": "code",
   "execution_count": 77,
   "metadata": {},
   "outputs": [],
   "source": [
    "# documents_top_restaurant is your X, target_top_restaurant is your y\n",
    "# Now split the data to training set and test set\n",
    "# Now your data is smaller, you can use a typical \"test_size\", e.g. 0.3-0.7\n",
    "X_train, X_test, y_train, y_test = train_test_split(\n",
    "    documents_top_restaurant, target_top_restaurant, test_size = 0.3, random_state=0\n",
    ")\n"
   ]
  },
  {
   "cell_type": "code",
   "execution_count": 79,
   "metadata": {},
   "outputs": [
    {
     "data": {
      "text/plain": [
       "((3446,), (1477,))"
      ]
     },
     "execution_count": 79,
     "metadata": {},
     "output_type": "execute_result"
    }
   ],
   "source": [
    "X_train.shape, X_test.shape"
   ]
  },
  {
   "cell_type": "markdown",
   "metadata": {},
   "source": [
    "### Get NLP representation of the documents"
   ]
  },
  {
   "cell_type": "code",
   "execution_count": 80,
   "metadata": {},
   "outputs": [],
   "source": [
    "from sklearn.feature_extraction.text import TfidfVectorizer"
   ]
  },
  {
   "cell_type": "code",
   "execution_count": 81,
   "metadata": {},
   "outputs": [],
   "source": [
    "# Create TfidfVectorizer, and name it vectorizer\n",
    "vectorizer = TfidfVectorizer(stop_words='english',max_features=1000)\n"
   ]
  },
  {
   "cell_type": "code",
   "execution_count": 82,
   "metadata": {},
   "outputs": [],
   "source": [
    "# Train the model with your training data\n",
    "vectors_train = vectorizer.fit_transform(X_train).toarray()\n",
    "\n"
   ]
  },
  {
   "cell_type": "code",
   "execution_count": 83,
   "metadata": {},
   "outputs": [],
   "source": [
    "# Get the vocab of your tfidf\n",
    "words = vectorizer.get_feature_names()\n"
   ]
  },
  {
   "cell_type": "code",
   "execution_count": 84,
   "metadata": {},
   "outputs": [],
   "source": [
    "# Use the trained model to transform the test data\n",
    "vectors_test = vectorizer.transform(X_test).toarray()\n"
   ]
  },
  {
   "cell_type": "code",
   "execution_count": 85,
   "metadata": {},
   "outputs": [],
   "source": [
    "# Use the trained model to transform all the data\n",
    "vectors_documents_top_restaurant = vectorizer.transform(documents_top_restaurant).toarray()"
   ]
  },
  {
   "cell_type": "markdown",
   "metadata": {},
   "source": [
    "### Cluster reviews with KMeans"
   ]
  },
  {
   "cell_type": "markdown",
   "metadata": {},
   "source": [
    "#### Fit k-means clustering on the training vectors and make predictions on all data"
   ]
  },
  {
   "cell_type": "code",
   "execution_count": 91,
   "metadata": {},
   "outputs": [
    {
     "data": {
      "text/plain": [
       "KMeans(algorithm='auto', copy_x=True, init='k-means++', max_iter=300,\n",
       "    n_clusters=8, n_init=10, n_jobs=1, precompute_distances='auto',\n",
       "    random_state=None, tol=0.0001, verbose=0)"
      ]
     },
     "execution_count": 91,
     "metadata": {},
     "output_type": "execute_result"
    }
   ],
   "source": [
    "from sklearn.cluster import KMeans\n",
    "kmeans= KMeans()\n",
    "kmeans.fit(vectors_train)"
   ]
  },
  {
   "cell_type": "markdown",
   "metadata": {},
   "source": [
    "#### Make predictions on all your data"
   ]
  },
  {
   "cell_type": "code",
   "execution_count": 93,
   "metadata": {},
   "outputs": [],
   "source": [
    "# To be implemented\n",
    "assigned_cluster = kmeans.predict(vectors_documents_top_restaurant)"
   ]
  },
  {
   "cell_type": "markdown",
   "metadata": {},
   "source": [
    "#### Inspect the centroids"
   ]
  },
  {
   "cell_type": "code",
   "execution_count": 94,
   "metadata": {},
   "outputs": [
    {
     "data": {
      "text/plain": [
       "(8, 1000)"
      ]
     },
     "execution_count": 94,
     "metadata": {},
     "output_type": "execute_result"
    }
   ],
   "source": [
    "kmeans.cluster_centers_.shape"
   ]
  },
  {
   "cell_type": "markdown",
   "metadata": {},
   "source": [
    "#### Find the top 10 features for each cluster."
   ]
  },
  {
   "cell_type": "code",
   "execution_count": 95,
   "metadata": {},
   "outputs": [],
   "source": [
    "n_feat = 10\n",
    "top_centroids = kmeans.cluster_centers_.argsort()[:,-1:-n_feat:-1]\n"
   ]
  },
  {
   "cell_type": "code",
   "execution_count": 97,
   "metadata": {},
   "outputs": [
    {
     "name": "stdout",
     "output_type": "stream",
     "text": [
      "0 food, buffet, worth, amazing, price, place, quality, better, service\n",
      "1 good, food, really, buffet, quality, place, price, like, pretty\n",
      "2 buffet, station, section, food, seafood, dessert, crab, good, fresh\n",
      "3 line, wait, time, hour, long, hours, food, pay, buffet\n",
      "4 food, buffet, just, time, like, got, place, line, good\n",
      "5 best, buffet, vegas, las, food, ve, buffets, worth, quality\n",
      "6 great, food, buffet, service, selection, vegas, worth, definitely, variety\n",
      "7 crab, legs, buffet, king, good, food, snow, like, oysters\n"
     ]
    }
   ],
   "source": [
    "for num, centroid in enumerate(top_centroids):\n",
    "    print (num, \", \".join(words[i] for i in centroid))"
   ]
  },
  {
   "cell_type": "markdown",
   "metadata": {},
   "source": [
    "#### Print out the rating and review of a random sample of the reviews assigned to each cluster to get a sense of the cluster."
   ]
  },
  {
   "cell_type": "code",
   "execution_count": 99,
   "metadata": {},
   "outputs": [
    {
     "name": "stdout",
     "output_type": "stream",
     "text": [
      "==============================\n",
      "Cluster 0:\n",
      "4\n",
      "Amazing burger, although a bit pricey keeping in mind that in and out burger is nearby. Overall experience was good and would come back.\n",
      "5\n",
      "I have came here with my sister for the first time we where curious since we drive past it all the time . It was absolutely so good the server was awesome and welcomed us to the establishment .explained to us the menu and gave us some great pointers I of course took her recommendation and ate a delicious sandwich . Took half of it to my husband and he loved it than I went ahead and took my mom there and she was surprised at how much food she was given she said it was so much so she took some of it home . The hot sauces are amazing .. Specially papa bear .\n",
      "==============================\n",
      "Cluster 1:\n",
      "4\n",
      "This is our go-to buffet for a seafood crab night where we don't end up paying an arm and a leg.  Its not a high end strip buffet but its decent for the price.  Every Fridays between 4pm-9pm you're looking at spending 28.99 per person.  Go early because the line can get really long.  We went at 8pm and still waited 30 minutes before we got seated.  \r\n",
      "\r\n",
      "If you're like us and you love crab, you have two options here, steam and frozen.  You can also ask them to stir fry the crab at the Mongolian station in a yummy asian blend sauce.  Also, the oysters are awesome.  Especially if you can get them right when they first bring out a new bucket.  Freshness!\r\n",
      "\r\n",
      "The buffet is split up into sections, Mexican, Chinese, Italian, Salad Bar, Seafood, small Hawaiian/Japanese section, and of course dessert.  One thing I can not get over is their fondue station.  Ladies and gentlemen there is a chocolate fountain.  Yes, I just said it.  Running waterfall of chocolate with a spread of marshmallows, pineapple, bread, strawberries, and a few other items you can submerge into the brown gooeyness.  Awesome goodness.\n",
      "1\n",
      "I am Vietnamese and this is the worst Vietnamese restaurant I have ever been to. I came with my family based on good reviews on Yelp but it was a disappointment. I read that service was bad but the food was good, and that would be fine for us as long as the food is good. We ordered: \r\n",
      "\r\n",
      "- Egg rolls: too much rice paper with a little bit of filling. Dipping sauce was bland.\r\n",
      "- Pho tai bo vien: what a disgrace to the Pho name, soup was all about MSG with zero flavor. \r\n",
      "- Com bi cha thit nuong: the grilled meat was too salty and tough\r\n",
      "- Bun bo Hue: the soup was very salty\r\n",
      "- Bun tom thit nuong cha gio: same as above, he grilled meat was too salty and tough; the shrimp was bland and no juicy; cha gio/eggrolls was same as above. The dipping sauce/ nuoc mam chua ngot was bad. \r\n",
      "\r\n",
      "In conclusion, I am not gonna come back!\n",
      "==============================\n",
      "Cluster 2:\n",
      "5\n",
      "I was in town and wanted to try one of the sushiburrito spots that have popped up recently in the area. Jaburritos is near the Linq on the strip, and was super convenient for lunch while we were walking around. The staff were all really helpful with what to order and the food was delicious - fresh fish, and great amount of topping options. This is a nice alternative to poke (which you would have to travel off the strip for), especially when you've been drinking and want something easy to eat (without a fork, lol)! I would definitely come here again the next time I visit!\n",
      "2\n",
      "I'm inclined to give 2.5 stars to Kinh Do.  I visited the restroom prior to ordering, and I was dismayed to find a huge cockroach in the sink.  I mentioned this to the manager and he went to remove it. Then he explained that the roach came from outside. while I understand this, the fact is, the roach was now inside the restaurant.  I was really tempted to leave right then. However, we stuck it out. DH ordered chicken pho, and I ordered rice vermicelli  with grilled pork and egg rolls.  The food was tasty, but we did note that the soup broth has MSG and felt the dizzying effects of it afterward.  Service was friendly and fast.  I have to say, the roads encounter colored the whole experience.  Hoping that's a really isolated incident.\n",
      "==============================\n",
      "Cluster 3:\n",
      "5\n",
      "I love this place fast and friendly very clean...the people are so nice...great food come down and have some great fool\n",
      "5\n",
      "A week after opening, it's my first time here w/ the hubs - on a cool, fall night after 8. Tomato Ramen for him, and Curry Ramen for me  Mmmmm.... and Ichi Special Roll & Takoyaki on the side! Delicious. Our servers were wonderful too!  Luckily we finally have a Ramen House on our side of town We will be back.\n",
      "==============================\n",
      "Cluster 4:\n",
      "4\n",
      "I'm always here late at night. Not very busy in the late hours. I love the decor inside. They have booths created in these huge whiskey barrels. We were seated immediately. Waters came out instantly. \r\n",
      "\r\n",
      "They added curtains and a board in between the barrel booths to provide privacy; i think it also helps keeps noise level down-prevents the echo of conversations. \r\n",
      "\r\n",
      "They have an expansive menu. Tons of options. We ordered several items, salmon rolls, yakiniku bowl, deep fried calamari, the avocado treasure chest and takoyaki. \r\n",
      "\r\n",
      "Everything came out as they were prepared. The treasure chest was phenomenal. It was my favorite out of everything (so far, since I'll be coming back). I would say the presentation was wonderful too. It was truly a japanese tapas style meal. I wouldn't come here wanting to be overwhelmingly full; definitely small bites and sharing. \r\n",
      "\r\n",
      "The food here is traditional Japanese. Come to this place looking for a palette adventures. The designs and presentations of these dishes is both eye catching and mouth watering. I would not come here to engulf food but rather take my time and really think about the blends of the flavors.\r\n",
      "\r\n",
      "The service was perfect as well. They left us alone and came back at appropriate time frames. Water was always refilled. The staff was overall friendly and personable. I'll definitely come back to sushi Takashi to try their larger portioned combos as well as their smaller and unique dishes.\n",
      "5\n",
      "Enjoyed the food and presentation, service, cleanliness, and modern decor. While the place is small, it didn't feel crowded to us at all. We were a med-large party.  The crew made us feel welcomed. We didn't feel hurried. As others have said, do try the shrimp toast and the wings. Also, seasoned edamame, and the bao buns. There are plenty of condiments on the table to spice up the dishes accdg to one's heat tolerance.  Compliments to the chef, and to the manager!\n",
      "==============================\n",
      "Cluster 5:\n",
      "5\n",
      "Decided to have a snack while I was waiting for a concert to start. I ordered off of the appetizer menu. Specifically the Spring Rolls and the Pork Belly in a Steamed Bun.\r\n",
      "\r\n",
      "OMG, I have never had a spring roll before where you can taste the springtime. Absolutely wonderful. The pork belly was great as well. \r\n",
      "\r\n",
      "I am pretty much done with eating in Chinatown. Every week some well known restaurant shows on on the news for Dirty Dining.\r\n",
      "\r\n",
      "There are plenty of great and clean Asian restaurants for the locals.\n",
      "2\n",
      "Came here for the first time and was very disappointed, they tried to sell us the drink upgrade 15 minutes before last call for alcohol (which they did not mention to us what they that was) huge selection that tasted as if it had been cooked the day prior or left sitting out for a long time, desserts were dry, great customer service but it was absolutely not worth the price. Never again\n",
      "==============================\n",
      "Cluster 6:\n",
      "4\n",
      "Came here for breakfast twice and for dinner once.I liked it.There was a wide variety of foods to choose from.The service was good.And the price wasn't too bad.After all you are in Vegas so you should expect the prices to be a little high.\n",
      "5\n",
      "Ever since my Moroccan feast during a holiday party at a Moroccan restaurant in Atlanta several years ago, I've wanted to revisit the experience.  This visit was a pleasant end to my two-week birthday vacation.  \r\n",
      "\r\n",
      "The six-course Moroccan feast is a prixe fixe menu consisting of:\r\n",
      "\r\n",
      "1. Moroccan Style Lamb Sausage with onions and tomatoes (shellfish substitute)\r\n",
      "2. Harira Soup (Lentil, rice, lemon, and spices)\r\n",
      "3. Marrakech Sampler (Hummus (garbanzo/tahini dip), Baba ghannouj (eggplant/tahini dip), Moroccan style olives, cucumbers, beets, and carrots)\r\n",
      "4. Beef Brochette (Beef kabob - marinated and grilled)\r\n",
      "5. Royal Moroccan CousCous platter with Djaj (Chicken, assorted vegetables including butternut squash and cabbage)\r\n",
      "6. B'stilla (Moroccan pastry stuffed with fruits and nuts topped with heaps of powdered sugar, cinnamon, and served with traditional mint tea.)\r\n",
      "\r\n",
      "Homemade Moroccan bread is served with each course.\r\n",
      "\r\n",
      "To drink, I had the Marrakech Mojito (Bacardi muddled with fresh mint, lime & sugar, topped with a splash of soda and a hint of rose water).\n",
      "==============================\n",
      "Cluster 7:\n",
      "5\n",
      "You want a yummy burger? Smash Burger is a must! I love the fries! You won't be disappointed! And students get a discount! Just show your ID!\n",
      "5\n",
      "It may be the $5 bottles of hot sake talking, but this noodle bar is fantastic! Great Hong Kong chow mein and the Duck Bao Bun is out of this world! Highly recommended. Great staff, too!\n"
     ]
    },
    {
     "name": "stderr",
     "output_type": "stream",
     "text": [
      "C:\\Users\\Administrator\\Anaconda3\\lib\\site-packages\\ipykernel_launcher.py:7: DeprecationWarning: \n",
      ".ix is deprecated. Please use\n",
      ".loc for label based indexing or\n",
      ".iloc for positional indexing\n",
      "\n",
      "See the documentation here:\n",
      "http://pandas.pydata.org/pandas-docs/stable/indexing.html#ix-indexer-is-deprecated\n",
      "  import sys\n",
      "C:\\Users\\Administrator\\Anaconda3\\lib\\site-packages\\ipykernel_launcher.py:8: DeprecationWarning: \n",
      ".ix is deprecated. Please use\n",
      ".loc for label based indexing or\n",
      ".iloc for positional indexing\n",
      "\n",
      "See the documentation here:\n",
      "http://pandas.pydata.org/pandas-docs/stable/indexing.html#ix-indexer-is-deprecated\n",
      "  \n"
     ]
    }
   ],
   "source": [
    "for i in range(kmeans.n_clusters):\n",
    "    cluster = np.arange(0,vectors_documents_top_restaurant.shape[0])[assigned_cluster==i]\n",
    "    sample_reviews = np.random.choice(cluster,2,replace=False)\n",
    "    print (\"=\" * 30)\n",
    "    print (\"Cluster %d:\" % i )\n",
    "    for review_index in sample_reviews:\n",
    "        print (df.ix[review_index]['stars'],)\n",
    "        print(df.ix[review_index]['text'])\n",
    "    print    "
   ]
  },
  {
   "cell_type": "code",
   "execution_count": null,
   "metadata": {},
   "outputs": [],
   "source": [
    "np.unique(assigned_cluster)"
   ]
  },
  {
   "cell_type": "markdown",
   "metadata": {},
   "source": [
    "## 3. Use PCA to reduce dimensionality"
   ]
  },
  {
   "cell_type": "markdown",
   "metadata": {},
   "source": [
    "### Stardardize features\n",
    "Your X_train and X_test"
   ]
  },
  {
   "cell_type": "code",
   "execution_count": 101,
   "metadata": {},
   "outputs": [],
   "source": [
    "from sklearn.preprocessing import StandardScaler\n",
    "\n",
    "scaler = StandardScaler()\n",
    "\n",
    "X_train_scaled = scaler.fit_transform(vectors_train)\n",
    "X_test_scaled = scaler.transform(vectors_test)\n",
    "\n"
   ]
  },
  {
   "cell_type": "markdown",
   "metadata": {},
   "source": [
    "### Use PCA to transform data (train and test) and get princial components"
   ]
  },
  {
   "cell_type": "code",
   "execution_count": 102,
   "metadata": {},
   "outputs": [],
   "source": [
    "from sklearn.decomposition import PCA\n",
    "\n",
    "# Let's pick a n_components\n",
    "n_components = 50\n",
    "\n",
    "pca = PCA(n_components = 50)\n",
    "\n",
    "X_train_pca = pca.fit_transform(X_train_scaled)\n",
    "\n",
    "X_test_pca = pca.transform(X_test_scaled)\n",
    " \n"
   ]
  },
  {
   "cell_type": "code",
   "execution_count": 103,
   "metadata": {},
   "outputs": [
    {
     "data": {
      "text/plain": [
       "(50, 1000)"
      ]
     },
     "execution_count": 103,
     "metadata": {},
     "output_type": "execute_result"
    }
   ],
   "source": [
    "pca.components_.shape"
   ]
  },
  {
   "cell_type": "markdown",
   "metadata": {},
   "source": [
    "### See how much (and how much percentage of) variance the principal components explain"
   ]
  },
  {
   "cell_type": "code",
   "execution_count": 104,
   "metadata": {},
   "outputs": [
    {
     "data": {
      "text/plain": [
       "array([8.08241957, 6.2917284 , 4.18562789, 3.89933031, 3.46287671,\n",
       "       3.30665067, 3.20793363, 3.19033203, 3.02694676, 2.94805544])"
      ]
     },
     "execution_count": 104,
     "metadata": {},
     "output_type": "execute_result"
    }
   ],
   "source": [
    "pca.explained_variance_[:10]"
   ]
  },
  {
   "cell_type": "code",
   "execution_count": 105,
   "metadata": {},
   "outputs": [
    {
     "data": {
      "text/plain": [
       "array([0.00808007, 0.0062899 , 0.00418441, 0.0038982 , 0.00346187,\n",
       "       0.00330569, 0.003207  , 0.00318941, 0.00302607, 0.0029472 ])"
      ]
     },
     "execution_count": 105,
     "metadata": {},
     "output_type": "execute_result"
    }
   ],
   "source": [
    "pca.explained_variance_ratio_[:10]"
   ]
  },
  {
   "cell_type": "markdown",
   "metadata": {},
   "source": [
    "### Viz: plot proportion of variance explained with top principal components\n",
    "\n",
    "For clear display, you may start with plotting <=20 principal components"
   ]
  },
  {
   "cell_type": "code",
   "execution_count": 107,
   "metadata": {},
   "outputs": [
    {
     "data": {
      "text/plain": [
       "Text(0,0.5,'Variance Explained')"
      ]
     },
     "execution_count": 107,
     "metadata": {},
     "output_type": "execute_result"
    },
    {
     "data": {
      "image/png": "[encoded data removed]",
      "text/plain": [
       "<Figure size 432x288 with 1 Axes>"
      ]
     },
     "metadata": {},
     "output_type": "display_data"
    }
   ],
   "source": [
    "n_col_to_display = 20\n",
    "\n",
    "pca_range = np.arange(n_col_to_display) +1 \n",
    "pca_names = ['PCA_%s' % i for i in pca_range]\n",
    "\n",
    "plt.figure()\n",
    "plt.bar(pca_range, pca.explained_variance_[:n_col_to_display],align='center')\n",
    "xticks = plt.xticks(pca_range, pca_names,rotation =90)\n",
    "plt.ylabel('Variance Explained')"
   ]
  },
  {
   "cell_type": "markdown",
   "metadata": {},
   "source": [
    "## Classifying positive/negative review with PCA preprocessing"
   ]
  },
  {
   "cell_type": "markdown",
   "metadata": {},
   "source": [
    "### Logistic Regression Classifier\n",
    "#### Use standardized tf-idf vectors as features"
   ]
  },
  {
   "cell_type": "code",
   "execution_count": 112,
   "metadata": {},
   "outputs": [
    {
     "data": {
      "text/plain": [
       "LogisticRegression(C=1.0, class_weight=None, dual=False, fit_intercept=True,\n",
       "          intercept_scaling=1, max_iter=100, multi_class='ovr', n_jobs=1,\n",
       "          penalty='l2', random_state=None, solver='liblinear', tol=0.0001,\n",
       "          verbose=0, warm_start=False)"
      ]
     },
     "execution_count": 112,
     "metadata": {},
     "output_type": "execute_result"
    }
   ],
   "source": [
    "# Build a Logistic Regression Classifier, train with standardized tf-idf vectors\n",
    "\n",
    "from sklearn.linear_model import LogisticRegression\n",
    "model_lrc = LogisticRegression()\n",
    "\n",
    "model_lrc.fit(X_train_scaled, y_train)\n",
    " "
   ]
  },
  {
   "cell_type": "code",
   "execution_count": 109,
   "metadata": {},
   "outputs": [
    {
     "data": {
      "text/plain": [
       "0.922228670922809"
      ]
     },
     "execution_count": 109,
     "metadata": {},
     "output_type": "execute_result"
    }
   ],
   "source": [
    "# Get score for training set\n",
    "model_lrc.score(X_train_scaled,y_train)"
   ]
  },
  {
   "cell_type": "code",
   "execution_count": 110,
   "metadata": {
    "scrolled": true
   },
   "outputs": [
    {
     "data": {
      "text/plain": [
       "0.7528774542992552"
      ]
     },
     "execution_count": 110,
     "metadata": {},
     "output_type": "execute_result"
    }
   ],
   "source": [
    "# Get score for test set\n",
    "model_lrc.score(X_test_scaled,y_test)"
   ]
  },
  {
   "cell_type": "markdown",
   "metadata": {},
   "source": [
    "#### Use (Stardardized + PCA) tf-idf vectors as features"
   ]
  },
  {
   "cell_type": "code",
   "execution_count": 113,
   "metadata": {},
   "outputs": [
    {
     "data": {
      "text/plain": [
       "LogisticRegression(C=1.0, class_weight=None, dual=False, fit_intercept=True,\n",
       "          intercept_scaling=1, max_iter=100, multi_class='ovr', n_jobs=1,\n",
       "          penalty='l2', random_state=None, solver='liblinear', tol=0.0001,\n",
       "          verbose=0, warm_start=False)"
      ]
     },
     "execution_count": 113,
     "metadata": {},
     "output_type": "execute_result"
    }
   ],
   "source": [
    "# Build a Logistic Regression Classifier, train with PCA tranformed X\n",
    "from sklearn.linear_model import LogisticRegression\n",
    "model_lrc = LogisticRegression()\n",
    "\n",
    "model_lrc.fit(X_train_pca, y_train)\n",
    " "
   ]
  },
  {
   "cell_type": "code",
   "execution_count": 114,
   "metadata": {},
   "outputs": [
    {
     "data": {
      "text/plain": [
       "0.7951247823563552"
      ]
     },
     "execution_count": 114,
     "metadata": {},
     "output_type": "execute_result"
    }
   ],
   "source": [
    "# Get score for training set\n",
    "model_lrc.score(X_train_pca,y_train)"
   ]
  },
  {
   "cell_type": "code",
   "execution_count": 115,
   "metadata": {},
   "outputs": [
    {
     "data": {
      "text/plain": [
       "0.7833446174678402"
      ]
     },
     "execution_count": 115,
     "metadata": {},
     "output_type": "execute_result"
    }
   ],
   "source": [
    "# Get score for test set, REMEMBER to use PCA-transformed X!\n",
    "model_lrc.score(X_test_pca,y_test)"
   ]
  },
  {
   "cell_type": "markdown",
   "metadata": {},
   "source": [
    "#### Q: What do you see from the training score and the test score? How do you compare the results from PCA and non-PCA preprocessing?"
   ]
  },
  {
   "cell_type": "markdown",
   "metadata": {},
   "source": [
    "Typical overfitting.\n",
    "\n",
    "Without using the pca, the training error is small, but testing error is big\n",
    "\n",
    "with pca, training error is bigger, but testing error is smaller."
   ]
  },
  {
   "cell_type": "markdown",
   "metadata": {},
   "source": [
    "#### You can plot the coefficients against principal components\n"
   ]
  },
  {
   "cell_type": "code",
   "execution_count": 119,
   "metadata": {},
   "outputs": [
    {
     "data": {
      "text/html": [
       "<div>\n",
       "<style scoped>\n",
       "    .dataframe tbody tr th:only-of-type {\n",
       "        vertical-align: middle;\n",
       "    }\n",
       "\n",
       "    .dataframe tbody tr th {\n",
       "        vertical-align: top;\n",
       "    }\n",
       "\n",
       "    .dataframe thead th {\n",
       "        text-align: right;\n",
       "    }\n",
       "</style>\n",
       "<table border=\"1\" class=\"dataframe\">\n",
       "  <thead>\n",
       "    <tr style=\"text-align: right;\">\n",
       "      <th></th>\n",
       "      <th>PC</th>\n",
       "      <th>coeff</th>\n",
       "    </tr>\n",
       "  </thead>\n",
       "  <tbody>\n",
       "    <tr>\n",
       "      <th>2</th>\n",
       "      <td>PC_3</td>\n",
       "      <td>-0.676797</td>\n",
       "    </tr>\n",
       "    <tr>\n",
       "      <th>1</th>\n",
       "      <td>PC_2</td>\n",
       "      <td>-0.371555</td>\n",
       "    </tr>\n",
       "    <tr>\n",
       "      <th>7</th>\n",
       "      <td>PC_8</td>\n",
       "      <td>-0.196305</td>\n",
       "    </tr>\n",
       "    <tr>\n",
       "      <th>6</th>\n",
       "      <td>PC_7</td>\n",
       "      <td>-0.176651</td>\n",
       "    </tr>\n",
       "    <tr>\n",
       "      <th>5</th>\n",
       "      <td>PC_6</td>\n",
       "      <td>-0.142184</td>\n",
       "    </tr>\n",
       "  </tbody>\n",
       "</table>\n",
       "</div>"
      ],
      "text/plain": [
       "     PC     coeff\n",
       "2  PC_3 -0.676797\n",
       "1  PC_2 -0.371555\n",
       "7  PC_8 -0.196305\n",
       "6  PC_7 -0.176651\n",
       "5  PC_6 -0.142184"
      ]
     },
     "execution_count": 119,
     "metadata": {},
     "output_type": "execute_result"
    }
   ],
   "source": [
    "pca_range = np.arange(pca.n_components_) + 1\n",
    "pca_names = ['PC_%s' % i for i in pca_range]\n",
    "\n",
    "df_coeffs = pd.DataFrame(list(zip(pca_names,model_lrc.coef_.flatten()))).sort_values(by=[1])\n",
    "df_coeffs.columns = ['PC','coeff']\n",
    "df_coeffs.head()"
   ]
  },
  {
   "cell_type": "code",
   "execution_count": 122,
   "metadata": {},
   "outputs": [
    {
     "data": {
      "image/png": "[encoded data removed]",
      "text/plain": [
       "<Figure size 576x576 with 1 Axes>"
      ]
     },
     "metadata": {},
     "output_type": "display_data"
    }
   ],
   "source": [
    "ax = df_coeffs.plot.barh(figsize=(8,8))\n",
    "t = np.arange(pca.n_components_)\n",
    "ax.set_yticks(t)\n",
    "ax.set_yticklabels(df_coeffs['PC'])\n",
    "plt.show()\n"
   ]
  },
  {
   "cell_type": "markdown",
   "metadata": {},
   "source": [
    "### Random Forest Classifier\n",
    "#### Use standardized tf-idf vectors as features"
   ]
  },
  {
   "cell_type": "code",
   "execution_count": 124,
   "metadata": {},
   "outputs": [
    {
     "data": {
      "text/plain": [
       "RandomForestClassifier(bootstrap=True, class_weight=None, criterion='gini',\n",
       "            max_depth=None, max_features='auto', max_leaf_nodes=None,\n",
       "            min_impurity_decrease=0.0, min_impurity_split=None,\n",
       "            min_samples_leaf=3, min_samples_split=2,\n",
       "            min_weight_fraction_leaf=0.0, n_estimators=20, n_jobs=1,\n",
       "            oob_score=False, random_state=0, verbose=0, warm_start=False)"
      ]
     },
     "execution_count": 124,
     "metadata": {},
     "output_type": "execute_result"
    }
   ],
   "source": [
    "# Build a Random Forest Classifier\n",
    "\n",
    "from sklearn.ensemble import RandomForestClassifier\n",
    "\n",
    "model_rfc = RandomForestClassifier(n_estimators=20, min_samples_leaf=3, random_state=0)\n",
    "\n",
    "model_rfc.fit(X_train_scaled, y_train)"
   ]
  },
  {
   "cell_type": "code",
   "execution_count": 126,
   "metadata": {},
   "outputs": [
    {
     "data": {
      "text/plain": [
       "0.9396401625072548"
      ]
     },
     "execution_count": 126,
     "metadata": {},
     "output_type": "execute_result"
    }
   ],
   "source": [
    "# Get score for training set\n",
    "model_rfc.score(X_train_scaled,y_train)"
   ]
  },
  {
   "cell_type": "code",
   "execution_count": 125,
   "metadata": {
    "scrolled": true
   },
   "outputs": [
    {
     "data": {
      "text/plain": [
       "0.7589708869329722"
      ]
     },
     "execution_count": 125,
     "metadata": {},
     "output_type": "execute_result"
    }
   ],
   "source": [
    "# Get score for test set\n",
    "model_rfc.score(X_test_scaled,y_test)"
   ]
  },
  {
   "cell_type": "markdown",
   "metadata": {},
   "source": [
    "#### Use (Stardardized + PCA) tf-idf vectors as features"
   ]
  },
  {
   "cell_type": "code",
   "execution_count": 130,
   "metadata": {},
   "outputs": [
    {
     "data": {
      "text/plain": [
       "RandomForestClassifier(bootstrap=True, class_weight=None, criterion='gini',\n",
       "            max_depth=None, max_features='auto', max_leaf_nodes=None,\n",
       "            min_impurity_decrease=0.0, min_impurity_split=None,\n",
       "            min_samples_leaf=3, min_samples_split=2,\n",
       "            min_weight_fraction_leaf=0.0, n_estimators=20, n_jobs=1,\n",
       "            oob_score=False, random_state=0, verbose=0, warm_start=False)"
      ]
     },
     "execution_count": 130,
     "metadata": {},
     "output_type": "execute_result"
    }
   ],
   "source": [
    "# Build a Random Forest Classifier\n",
    "\n",
    "from sklearn.ensemble import RandomForestClassifier\n",
    "\n",
    "\n",
    "model_rfc = RandomForestClassifier(n_estimators=20, min_samples_leaf=3, random_state=0)\n",
    "\n",
    "model_rfc.fit(X_train_pca, y_train)"
   ]
  },
  {
   "cell_type": "code",
   "execution_count": 131,
   "metadata": {},
   "outputs": [
    {
     "data": {
      "text/plain": [
       "0.9811375507835172"
      ]
     },
     "execution_count": 131,
     "metadata": {},
     "output_type": "execute_result"
    }
   ],
   "source": [
    "# Get score for training set\n",
    "model_rfc.score(X_train_pca,y_train)"
   ]
  },
  {
   "cell_type": "code",
   "execution_count": 135,
   "metadata": {},
   "outputs": [
    {
     "data": {
      "text/plain": [
       "0.7508463100880163"
      ]
     },
     "execution_count": 135,
     "metadata": {},
     "output_type": "execute_result"
    }
   ],
   "source": [
    "# Get score for test set, REMEMBER to use PCA-transformed X!\n",
    "model_rfc.score(X_test_pca,y_test)"
   ]
  },
  {
   "cell_type": "markdown",
   "metadata": {},
   "source": [
    "#### Q: What do you see from the training result and the test result?"
   ]
  },
  {
   "cell_type": "markdown",
   "metadata": {},
   "source": [
    "PCA doesn't help random forest to deal with the overfitting problem."
   ]
  },
  {
   "cell_type": "markdown",
   "metadata": {},
   "source": [
    "#### You can plot the feature importances against principal components\n"
   ]
  },
  {
   "cell_type": "code",
   "execution_count": 138,
   "metadata": {},
   "outputs": [
    {
     "data": {
      "text/html": [
       "<div>\n",
       "<style scoped>\n",
       "    .dataframe tbody tr th:only-of-type {\n",
       "        vertical-align: middle;\n",
       "    }\n",
       "\n",
       "    .dataframe tbody tr th {\n",
       "        vertical-align: top;\n",
       "    }\n",
       "\n",
       "    .dataframe thead th {\n",
       "        text-align: right;\n",
       "    }\n",
       "</style>\n",
       "<table border=\"1\" class=\"dataframe\">\n",
       "  <thead>\n",
       "    <tr style=\"text-align: right;\">\n",
       "      <th></th>\n",
       "      <th>PC</th>\n",
       "      <th>coeff</th>\n",
       "    </tr>\n",
       "  </thead>\n",
       "  <tbody>\n",
       "    <tr>\n",
       "      <th>33</th>\n",
       "      <td>PC_34</td>\n",
       "      <td>0.010619</td>\n",
       "    </tr>\n",
       "    <tr>\n",
       "      <th>49</th>\n",
       "      <td>PC_50</td>\n",
       "      <td>0.011508</td>\n",
       "    </tr>\n",
       "    <tr>\n",
       "      <th>45</th>\n",
       "      <td>PC_46</td>\n",
       "      <td>0.011649</td>\n",
       "    </tr>\n",
       "    <tr>\n",
       "      <th>16</th>\n",
       "      <td>PC_17</td>\n",
       "      <td>0.011776</td>\n",
       "    </tr>\n",
       "    <tr>\n",
       "      <th>15</th>\n",
       "      <td>PC_16</td>\n",
       "      <td>0.012077</td>\n",
       "    </tr>\n",
       "  </tbody>\n",
       "</table>\n",
       "</div>"
      ],
      "text/plain": [
       "       PC     coeff\n",
       "33  PC_34  0.010619\n",
       "49  PC_50  0.011508\n",
       "45  PC_46  0.011649\n",
       "16  PC_17  0.011776\n",
       "15  PC_16  0.012077"
      ]
     },
     "execution_count": 138,
     "metadata": {},
     "output_type": "execute_result"
    }
   ],
   "source": [
    "pca_range = np.arange(pca.n_components_) + 1\n",
    "pca_names = ['PC_%s' % i for i in pca_range]\n",
    "\n",
    "df_coeffs = pd.DataFrame(list(zip(pca_names,model_rfc.feature_importances_))).sort_values(by=[1])\n",
    "df_coeffs.columns = ['PC','coeff']\n",
    "df_coeffs.head()"
   ]
  },
  {
   "cell_type": "code",
   "execution_count": 139,
   "metadata": {},
   "outputs": [
    {
     "data": {
      "image/png": "[encoded data removed]",
      "text/plain": [
       "<Figure size 576x576 with 1 Axes>"
      ]
     },
     "metadata": {},
     "output_type": "display_data"
    }
   ],
   "source": [
    "ax = df_coeffs.plot.barh(figsize=(8,8))\n",
    "t = np.arange(pca.n_components_)\n",
    "ax.set_yticks(t)\n",
    "ax.set_yticklabels(df_coeffs['PC'])\n",
    "plt.show()\n"
   ]
  },
  {
   "cell_type": "markdown",
   "metadata": {
    "collapsed": true
   },
   "source": [
    "Cluster restaurants from their category information\n"
   ]
  },
  {
   "cell_type": "markdown",
   "metadata": {},
   "source": [
    "a business may have mutiple categories, e.g. a restaurant can have both \"Restaurants\" and \"Korean\""
   ]
  },
  {
   "cell_type": "code",
   "execution_count": null,
   "metadata": {
    "collapsed": true
   },
   "outputs": [],
   "source": [
    "# To be implemented"
   ]
  },
  {
   "cell_type": "markdown",
   "metadata": {},
   "source": [
    "Try different distance/similarity metrics for clusterings, e.g. Pearson correlation, Jaccard distance, etc. \n",
    " \n",
    " [scipy](http://docs.scipy.org/doc/scipy/reference/generated/scipy.spatial.distance.pdist.html#scipy.spatial.distance.pdist) documentations to use other distances\n",
    "\n",
    " Cosine distance or Euclidean distance?"
   ]
  },
  {
   "cell_type": "code",
   "execution_count": null,
   "metadata": {
    "collapsed": true
   },
   "outputs": [],
   "source": [
    "# To be implemented"
   ]
  },
  {
   "cell_type": "markdown",
   "metadata": {},
   "source": [
    "cluster categories from business entities? What does it mean by a cluster?\n",
    "\n",
    " words can be clustered from the transposed tf-idf matrix."
   ]
  },
  {
   "cell_type": "code",
   "execution_count": 1,
   "metadata": {},
   "outputs": [],
   "source": [
    "# To be implemented"
   ]
  },
  {
   "cell_type": "markdown",
   "metadata": {},
   "source": [
    "Characteristics of each of the clustered  \n",
    "\n",
    "For each cluster, which restaurant can best represent (\"define\") its cluster?\n"
   ]
  },
  {
   "cell_type": "code",
   "execution_count": null,
   "metadata": {
    "collapsed": true
   },
   "outputs": [],
   "source": [
    "# To be implemented"
   ]
  },
  {
   "cell_type": "markdown",
   "metadata": {},
   "source": [
    "other use cases that clustering can be used? "
   ]
  },
  {
   "cell_type": "code",
   "execution_count": null,
   "metadata": {
    "collapsed": true
   },
   "outputs": [],
   "source": [
    "# To be implemented"
   ]
  },
  {
   "cell_type": "code",
   "execution_count": null,
   "metadata": {
    "collapsed": true
   },
   "outputs": [],
   "source": []
  }
 ],
 "metadata": {
  "anaconda-cloud": {},
  "kernelspec": {
   "display_name": "Python 3",
   "language": "python",
   "name": "python3"
  },
  "language_info": {
   "codemirror_mode": {
    "name": "ipython",
    "version": 3
   },
   "file_extension": ".py",
   "mimetype": "text/x-python",
   "name": "python",
   "nbconvert_exporter": "python",
   "pygments_lexer": "ipython3",
   "version": "3.6.5"
  }
 },
 "nbformat": 4,
 "nbformat_minor": 1
}
